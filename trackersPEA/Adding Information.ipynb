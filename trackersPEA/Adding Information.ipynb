{
 "cells": [
  {
   "cell_type": "code",
   "execution_count": 20,
   "id": "c1f3d03b",
   "metadata": {},
   "outputs": [],
   "source": [
    "import csv\n",
    "import pandas as pd\n",
    "import numpy as np\n",
    "import investpy"
   ]
  },
  {
   "cell_type": "markdown",
   "id": "6be33104",
   "metadata": {},
   "source": [
    "# Load data"
   ]
  },
  {
   "cell_type": "code",
   "execution_count": 16,
   "id": "d261d937",
   "metadata": {
    "scrolled": true
   },
   "outputs": [
    {
     "data": {
      "text/html": [
       "<div>\n",
       "<style scoped>\n",
       "    .dataframe tbody tr th:only-of-type {\n",
       "        vertical-align: middle;\n",
       "    }\n",
       "\n",
       "    .dataframe tbody tr th {\n",
       "        vertical-align: top;\n",
       "    }\n",
       "\n",
       "    .dataframe thead th {\n",
       "        text-align: right;\n",
       "    }\n",
       "</style>\n",
       "<table border=\"1\" class=\"dataframe\">\n",
       "  <thead>\n",
       "    <tr style=\"text-align: right;\">\n",
       "      <th></th>\n",
       "      <th>ISIN</th>\n",
       "    </tr>\n",
       "  </thead>\n",
       "  <tbody>\n",
       "    <tr>\n",
       "      <th>0</th>\n",
       "      <td>LU1681043599</td>\n",
       "    </tr>\n",
       "    <tr>\n",
       "      <th>1</th>\n",
       "      <td>FR0011869353</td>\n",
       "    </tr>\n",
       "    <tr>\n",
       "      <th>2</th>\n",
       "      <td>FR0013412285</td>\n",
       "    </tr>\n",
       "    <tr>\n",
       "      <th>3</th>\n",
       "      <td>FR0013412020</td>\n",
       "    </tr>\n",
       "    <tr>\n",
       "      <th>4</th>\n",
       "      <td>FR0013412269</td>\n",
       "    </tr>\n",
       "  </tbody>\n",
       "</table>\n",
       "</div>"
      ],
      "text/plain": [
       "           ISIN\n",
       "0  LU1681043599\n",
       "1  FR0011869353\n",
       "2  FR0013412285\n",
       "3  FR0013412020\n",
       "4  FR0013412269"
      ]
     },
     "execution_count": 16,
     "metadata": {},
     "output_type": "execute_result"
    }
   ],
   "source": [
    "df = pd.read_csv(\"ISIN.txt\", names=[\"ISIN\"])\n",
    "df.head(5)"
   ]
  },
  {
   "cell_type": "code",
   "execution_count": 21,
   "id": "3003b3e5",
   "metadata": {},
   "outputs": [
    {
     "ename": "ConnectionError",
     "evalue": "ERR#0015: error 403, try again later.",
     "output_type": "error",
     "traceback": [
      "\u001b[0;31m---------------------------------------------------------------------------\u001b[0m",
      "\u001b[0;31mConnectionError\u001b[0m                           Traceback (most recent call last)",
      "Cell \u001b[0;32mIn[21], line 1\u001b[0m\n\u001b[0;32m----> 1\u001b[0m df \u001b[38;5;241m=\u001b[39m \u001b[43minvestpy\u001b[49m\u001b[38;5;241;43m.\u001b[39;49m\u001b[43mget_stock_historical_data\u001b[49m\u001b[43m(\u001b[49m\u001b[43mstock\u001b[49m\u001b[38;5;241;43m=\u001b[39;49m\u001b[38;5;124;43m'\u001b[39;49m\u001b[38;5;124;43mAAPL\u001b[39;49m\u001b[38;5;124;43m'\u001b[39;49m\u001b[43m,\u001b[49m\n\u001b[1;32m      2\u001b[0m \u001b[43m                                        \u001b[49m\u001b[43mcountry\u001b[49m\u001b[38;5;241;43m=\u001b[39;49m\u001b[38;5;124;43m'\u001b[39;49m\u001b[38;5;124;43mUnited States\u001b[39;49m\u001b[38;5;124;43m'\u001b[39;49m\u001b[43m,\u001b[49m\n\u001b[1;32m      3\u001b[0m \u001b[43m                                        \u001b[49m\u001b[43mfrom_date\u001b[49m\u001b[38;5;241;43m=\u001b[39;49m\u001b[38;5;124;43m'\u001b[39;49m\u001b[38;5;124;43m01/01/2010\u001b[39;49m\u001b[38;5;124;43m'\u001b[39;49m\u001b[43m,\u001b[49m\n\u001b[1;32m      4\u001b[0m \u001b[43m                                        \u001b[49m\u001b[43mto_date\u001b[49m\u001b[38;5;241;43m=\u001b[39;49m\u001b[38;5;124;43m'\u001b[39;49m\u001b[38;5;124;43m01/01/2020\u001b[39;49m\u001b[38;5;124;43m'\u001b[39;49m\u001b[43m)\u001b[49m\n\u001b[1;32m      5\u001b[0m \u001b[38;5;28mprint\u001b[39m(df\u001b[38;5;241m.\u001b[39mhead())\n",
      "File \u001b[0;32m~/.local/lib/python3.10/site-packages/investpy/stocks.py:664\u001b[0m, in \u001b[0;36mget_stock_historical_data\u001b[0;34m(stock, country, from_date, to_date, as_json, order, interval)\u001b[0m\n\u001b[1;32m    661\u001b[0m req \u001b[38;5;241m=\u001b[39m requests\u001b[38;5;241m.\u001b[39mpost(url, headers\u001b[38;5;241m=\u001b[39mhead, data\u001b[38;5;241m=\u001b[39mparams)\n\u001b[1;32m    663\u001b[0m \u001b[38;5;28;01mif\u001b[39;00m req\u001b[38;5;241m.\u001b[39mstatus_code \u001b[38;5;241m!=\u001b[39m \u001b[38;5;241m200\u001b[39m:\n\u001b[0;32m--> 664\u001b[0m     \u001b[38;5;28;01mraise\u001b[39;00m \u001b[38;5;167;01mConnectionError\u001b[39;00m(\n\u001b[1;32m    665\u001b[0m         \u001b[38;5;124m\"\u001b[39m\u001b[38;5;124mERR#0015: error \u001b[39m\u001b[38;5;124m\"\u001b[39m \u001b[38;5;241m+\u001b[39m \u001b[38;5;28mstr\u001b[39m(req\u001b[38;5;241m.\u001b[39mstatus_code) \u001b[38;5;241m+\u001b[39m \u001b[38;5;124m\"\u001b[39m\u001b[38;5;124m, try again later.\u001b[39m\u001b[38;5;124m\"\u001b[39m\n\u001b[1;32m    666\u001b[0m     )\n\u001b[1;32m    668\u001b[0m \u001b[38;5;28;01mif\u001b[39;00m \u001b[38;5;129;01mnot\u001b[39;00m req\u001b[38;5;241m.\u001b[39mtext:\n\u001b[1;32m    669\u001b[0m     \u001b[38;5;28;01mcontinue\u001b[39;00m\n",
      "\u001b[0;31mConnectionError\u001b[0m: ERR#0015: error 403, try again later."
     ]
    }
   ],
   "source": [
    "\n",
    "\n",
    "df = investpy.get_stock_historical_data(stock='AAPL',\n",
    "                                        country='United States',\n",
    "                                        from_date='01/01/2010',\n",
    "                                        to_date='01/01/2020')\n",
    "print(df.head())"
   ]
  },
  {
   "cell_type": "code",
   "execution_count": 24,
   "id": "de2f4c76",
   "metadata": {},
   "outputs": [],
   "source": [
    "from urllib.request import urlopen\n",
    "from bs4 import BeautifulSoup\n",
    "from pprint import pprint\n",
    "import re\n",
    "import sys\n",
    "import datetime\n"
   ]
  },
  {
   "cell_type": "code",
   "execution_count": 27,
   "id": "da2b7e12",
   "metadata": {},
   "outputs": [],
   "source": [
    "URL = 'https://www.justetf.com/uk/etf-profile.html?isin={0}'"
   ]
  },
  {
   "cell_type": "code",
   "execution_count": 26,
   "id": "571b4753",
   "metadata": {},
   "outputs": [],
   "source": [
    "\n",
    "def process_string(s):\n",
    "    s = s.strip()\n",
    "    s = re.sub(' +', ' ', s)\n",
    "    s = re.sub('\\n', '', s)\n",
    "    return s.strip()\n",
    "\n",
    "def scrape_etf_params(response):\n",
    "    etf = {}\n",
    "    etf['name'] = response.find('span', attrs={'class': 'h1'}\n",
    "            ).text.strip()\n",
    "    isin, ticker = response.find('span', attrs={'class': 'identfier'}\n",
    "            ).findAll('span', attrs={'class': 'val'})\n",
    "    etf['isin'] = isin.text.strip()[:-1] # they put ',' after ISIN in the tag\n",
    "    etf['ticker'] = ticker.text.strip()\n",
    "    etf['description'] = response.find(string=re.compile('Investment strategy')\n",
    "            ).findNext('p').contents[0].strip()\n",
    "    etf['description'] = process_string(etf['description'])\n",
    "    etf['last_quote'] = ' '.join(map(lambda x: x.contents[0], response.find('div', string=re.compile('Quote')\n",
    "        ).findNext('div', attrs={'class': 'val'}\n",
    "        ).findAll('span')))\n",
    "    etf['one_year_low_high'] = list(response.find('div', string=re.compile(\"52 weeks low/high\")\n",
    "        ).parent.div.children)\n",
    "    del etf['one_year_low_high'][1]\n",
    "    etf['one_year_low_high'] = re.sub('[\\t\\n]', '', '/'.join(etf['one_year_low_high']))\n",
    "    etf['one_year_low_high'] = process_string(etf['one_year_low_high'])\n",
    "    etf['fund_size'] = re.sub('[\\t\\n]', '', response.find('div', string=re.compile('Fund size')\n",
    "        ).findPrevious('div').contents[0].strip())\n",
    "    etf['fund_size'] = process_string(etf['fund_size'])\n",
    "    fs_category = response.find('img', attrs={'alt': 'Fund size category', 'data-toggle': 'tooltip'}\n",
    "        )['class']\n",
    "    etf['fund_size_category'] = \"low cap\" if fs_category[-1] == \"1\" else \"mid cap\" if fs_category[-1] == \"2\" else \"high cap\"\n",
    "    etf['replication'] = re.sub('[\\t\\n]', '', response.find(string=re.compile(\"Replication\")\n",
    "        ).parent.parent.find_next_sibling('td').text.strip())\n",
    "    etf['replication'] = process_string(etf['replication'])\n",
    "    etf['currency'] = response.find(string=re.compile(\"Fund currency\")\n",
    "            ).parent.find_next_sibling('td').text.strip()\n",
    "    etf['inception_date'] = datetime.datetime.strptime(response.find(string=re.compile(\"Inception/ Listing Date\")\n",
    "        ).parent.find_next_sibling('td').text.strip(), \"%d %B %Y\")\n",
    "    etf['ter'] = response.find(string=re.compile(\"Total expense ratio\")\n",
    "        ).parent.find_previous_sibling('div').text.strip()\n",
    "    etf['distribution_policy'] = response.find(string=re.compile(\"Distribution policy\")\n",
    "        ).parent.find_next_sibling('td').text.strip()\n",
    "    etf['fund_domicile'] = response.find(string=re.compile(\"Fund domicile\")\n",
    "        ).parent.find_next_sibling('td').text.strip()\n",
    "    # etf['listings'] = []\n",
    "    # for r in response.find('h3', string=re.compile('Listings')\n",
    "    #         ).parent.parent.parent.find_next_sibling().findAll('tr'):\n",
    "    #     etf['listings'].append(r.td.text.strip())\n",
    "    return etf\n",
    "\n",
    "def scrape_etf(isin):\n",
    "    etf = {}\n",
    "    try:\n",
    "        with urlopen(URL.format(isin)) as connection:\n",
    "            response = BeautifulSoup(connection, 'html.parser')\n",
    "        return scrape_etf_params(response)\n",
    "    except AttributeError as e:\n",
    "        print(\"Fund isin '{}' not found!\".format(isin), file=sys.stderr)\n",
    "    return None\n",
    "\n",
    "def suitable(etf):\n",
    "    if etf['distribution_policy'] != 'Accumulating':\n",
    "        return False\n",
    "    if etf['fund_size_category'] not in ['mid cap', 'high cap']:\n",
    "        return False\n",
    "    if re.match(r\"[pP]hysical\", etf['replication']) is None:\n",
    "        return False\n",
    "    # at least 3 years old\n",
    "    dt = datetime.timedelta(days=3*365)\n",
    "    if etf['inception_date'] > datetime.datetime.now() - dt:\n",
    "        return False\n",
    "    return True"
   ]
  },
  {
   "cell_type": "code",
   "execution_count": 23,
   "id": "55c716f7",
   "metadata": {},
   "outputs": [
    {
     "ename": "TypeError",
     "evalue": "get_stock_historical_data() missing 3 required positional arguments: 'country', 'from_date', and 'to_date'",
     "output_type": "error",
     "traceback": [
      "\u001b[0;31m---------------------------------------------------------------------------\u001b[0m",
      "\u001b[0;31mTypeError\u001b[0m                                 Traceback (most recent call last)",
      "Cell \u001b[0;32mIn[23], line 1\u001b[0m\n\u001b[0;32m----> 1\u001b[0m \u001b[43minvestpy\u001b[49m\u001b[38;5;241;43m.\u001b[39;49m\u001b[43mget_stock_historical_data\u001b[49m\u001b[43m(\u001b[49m\u001b[43mstock\u001b[49m\u001b[38;5;241;43m=\u001b[39;49m\u001b[38;5;124;43m\"\u001b[39;49m\u001b[38;5;124;43mAAPL\u001b[39;49m\u001b[38;5;124;43m\"\u001b[39;49m\u001b[43m)\u001b[49m\n",
      "\u001b[0;31mTypeError\u001b[0m: get_stock_historical_data() missing 3 required positional arguments: 'country', 'from_date', and 'to_date'"
     ]
    }
   ],
   "source": [
    "\n",
    "\n",
    "if __name__ == \"__main__\":\n",
    "    if len(sys.argv) == 1:\n",
    "        print(\"usage: python3 etf.py etf_list.txt\", file=sys.stderr)\n",
    "    else:\n",
    "        with open(sys.argv[1], 'r') as f:\n",
    "            for line in f:\n",
    "                etf = scrape_etf(line.strip())\n",
    "                if suitable(etf):\n",
    "                    pprint(etf)"
   ]
  },
  {
   "cell_type": "code",
   "execution_count": 28,
   "id": "4ab42ab0",
   "metadata": {},
   "outputs": [
    {
     "name": "stderr",
     "output_type": "stream",
     "text": [
      "Fund isin 'LU1681043599' not found!\n"
     ]
    }
   ],
   "source": [
    "etf = scrape_etf(\"LU1681043599\")\n",
    "etf"
   ]
  },
  {
   "cell_type": "code",
   "execution_count": 29,
   "id": "2240a1a6",
   "metadata": {},
   "outputs": [],
   "source": [
    "isin = \"LU1681043599\""
   ]
  }
 ],
 "metadata": {
  "kernelspec": {
   "display_name": "Python 3 (ipykernel)",
   "language": "python",
   "name": "python3"
  },
  "language_info": {
   "codemirror_mode": {
    "name": "ipython",
    "version": 3
   },
   "file_extension": ".py",
   "mimetype": "text/x-python",
   "name": "python",
   "nbconvert_exporter": "python",
   "pygments_lexer": "ipython3",
   "version": "3.10.12"
  },
  "toc": {
   "base_numbering": 1,
   "nav_menu": {},
   "number_sections": true,
   "sideBar": true,
   "skip_h1_title": false,
   "title_cell": "Table of Contents",
   "title_sidebar": "Contents",
   "toc_cell": false,
   "toc_position": {},
   "toc_section_display": true,
   "toc_window_display": false
  }
 },
 "nbformat": 4,
 "nbformat_minor": 5
}
